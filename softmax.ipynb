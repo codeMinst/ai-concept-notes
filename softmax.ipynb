{
 "cells": [
  {
   "cell_type": "markdown",
   "id": "1b6b9949",
   "metadata": {},
   "source": [
    "# Softmax Function\n",
    "이 노트북은 Softmax 함수의 정의, 수식, 그리고 시각적 직관을 정리한 것입니다.\n",
    "\n",
    "Softmax는 다중 클래스 분류 문제에서 출력 확률을 생성할 때 자주 사용됩니다.\n",
    "수식은 다음과 같습니다:\n",
    "\n",
    "$$\n",
    "\\text{softmax}(z_i) = \\frac{e^{z_i}}{\\sum_{j} e^{z_j}}\n",
    "$$"
   ]
  },
  {
   "cell_type": "code",
   "execution_count": null,
   "id": "81eeab33",
   "metadata": {},
   "outputs": [],
   "source": [
    "import numpy as np\n",
    "import matplotlib.pyplot as plt\n",
    "\n",
    "def softmax(x):\n",
    "    e_x = np.exp(x - np.max(x))\n",
    "    return e_x / e_x.sum()\n",
    "\n",
    "x = np.linspace(-2, 2, 100)\n",
    "x_matrix = np.vstack([x, x + 0.5, x - 0.5])\n",
    "y = np.apply_along_axis(softmax, 0, x_matrix)\n",
    "\n",
    "plt.figure(figsize=(8, 4))\n",
    "for i in range(y.shape[0]):\n",
    "    plt.plot(x, y[i], label=f'Class {i+1}')\n",
    "plt.title(\"Softmax Outputs Over Input Range\")\n",
    "plt.xlabel(\"Input value\")\n",
    "plt.ylabel(\"Probability\")\n",
    "plt.legend()\n",
    "plt.grid(True)\n",
    "plt.show()"
   ]
  },
  {
   "cell_type": "markdown",
   "id": "3b75efc9",
   "metadata": {},
   "source": [
    "### 해석\n",
    "- softmax는 입력 벡터를 정규화하여 총합이 1이 되는 확률 분포로 바꿔줍니다.\n",
    "- `np.exp(x - np.max(x))` 는 overflow 방지를 위한 안정화 기법입니다.\n",
    "- 위 그래프는 여러 클래스 입력에 대해 softmax가 어떻게 반응하는지를 보여줍니다.\n",
    "\n",
    "> 참고: softmax의 gradient는 cross entropy loss와 함께 사용할 때 간단한 형태로 미분이 됩니다."
   ]
  }
 ],
 "metadata": {
  "kernelspec": {
   "display_name": "Python 3 (ipykernel)",
   "language": "python",
   "name": "python3"
  },
  "language_info": {
   "codemirror_mode": {
    "name": "ipython",
    "version": 3
   },
   "file_extension": ".py",
   "mimetype": "text/x-python",
   "name": "python",
   "nbconvert_exporter": "python",
   "pygments_lexer": "ipython3",
   "version": "3.12.7"
  }
 },
 "nbformat": 4,
 "nbformat_minor": 5
}
